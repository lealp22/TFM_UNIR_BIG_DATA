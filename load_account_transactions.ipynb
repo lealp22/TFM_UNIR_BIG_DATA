{
 "cells": [
  {
   "cell_type": "code",
   "execution_count": null,
   "metadata": {},
   "outputs": [],
   "source": [
    "%pip install pymongo\n",
    "%pip install python-dotenv"
   ]
  },
  {
   "cell_type": "markdown",
   "metadata": {},
   "source": [
    "Importación de librerias"
   ]
  },
  {
   "cell_type": "code",
   "execution_count": 2,
   "metadata": {},
   "outputs": [],
   "source": [
    "import pymongo\n",
    "import requests\n",
    "import time\n",
    "\n",
    "import os\n",
    "from datetime import datetime\n",
    "from dotenv import load_dotenv"
   ]
  },
  {
   "cell_type": "markdown",
   "metadata": {},
   "source": [
    "Carga los secretos del archivo **.env**"
   ]
  },
  {
   "cell_type": "code",
   "execution_count": null,
   "metadata": {},
   "outputs": [],
   "source": [
    "# Carga los secretos del archivo .env\n",
    "load_dotenv()\n",
    "\n",
    "# Accede a los valores definidos en .env\n",
    "APIKEY_ETHERSCAN = os.getenv(\"APIKEY_ETHERSCAN\")\n",
    "MONGODB_SERVER = os.getenv(\"MONGODB_SERVER\")\n",
    "\n",
    "print(APIKEY_ETHERSCAN[:3] + '*****' + APIKEY_ETHERSCAN[-3:])\n",
    "print(MONGODB_SERVER[:10] + '*****' + MONGODB_SERVER[20:])"
   ]
  },
  {
   "cell_type": "markdown",
   "metadata": {},
   "source": [
    "### Conexión MongoDB"
   ]
  },
  {
   "cell_type": "code",
   "execution_count": 4,
   "metadata": {},
   "outputs": [
    {
     "name": "stdout",
     "output_type": "stream",
     "text": [
      "{'version': '7.0.5', 'gitVersion': '7809d71e84e314b497f282ea8aa06d7ded3eb205', 'modules': [], 'allocator': 'tcmalloc', 'javascriptEngine': 'mozjs', 'sysInfo': 'deprecated', 'versionArray': [7, 0, 5, 0], 'openssl': {'running': 'OpenSSL 3.0.2 15 Mar 2022', 'compiled': 'OpenSSL 3.0.2 15 Mar 2022'}, 'buildEnvironment': {'distmod': 'ubuntu2204', 'distarch': 'x86_64', 'cc': '/opt/mongodbtoolchain/v4/bin/gcc: gcc (GCC) 11.3.0', 'ccflags': '-Werror -include mongo/platform/basic.h -ffp-contract=off -fasynchronous-unwind-tables -g2 -Wall -Wsign-compare -Wno-unknown-pragmas -Winvalid-pch -gdwarf-5 -fno-omit-frame-pointer -fno-strict-aliasing -O2 -march=sandybridge -mtune=generic -mprefer-vector-width=128 -Wno-unused-local-typedefs -Wno-unused-function -Wno-deprecated-declarations -Wno-unused-const-variable -Wno-unused-but-set-variable -Wno-missing-braces -fstack-protector-strong -gdwarf64 -Wa,--nocompress-debug-sections -fno-builtin-memcmp -Wimplicit-fallthrough=5', 'cxx': '/opt/mongodbtoolchain/v4/bin/g++: g++ (GCC) 11.3.0', 'cxxflags': '-Woverloaded-virtual -Wpessimizing-move -Wno-maybe-uninitialized -fsized-deallocation -Wno-deprecated -std=c++20', 'linkflags': '-Wl,--fatal-warnings -B/opt/mongodbtoolchain/v4/bin -gdwarf-5 -pthread -Wl,-z,now -fuse-ld=lld -fstack-protector-strong -gdwarf64 -Wl,--build-id -Wl,--hash-style=gnu -Wl,-z,noexecstack -Wl,--warn-execstack -Wl,-z,relro -Wl,--compress-debug-sections=none -Wl,-z,origin -Wl,--enable-new-dtags', 'target_arch': 'x86_64', 'target_os': 'linux', 'cppdefines': 'SAFEINT_USE_INTRINSICS 0 PCRE2_STATIC NDEBUG _XOPEN_SOURCE 700 _GNU_SOURCE _FORTIFY_SOURCE 2 ABSL_FORCE_ALIGNED_ACCESS BOOST_ENABLE_ASSERT_DEBUG_HANDLER BOOST_FILESYSTEM_NO_CXX20_ATOMIC_REF BOOST_LOG_NO_SHORTHAND_NAMES BOOST_LOG_USE_NATIVE_SYSLOG BOOST_LOG_WITHOUT_THREAD_ATTR BOOST_MATH_NO_LONG_DOUBLE_MATH_FUNCTIONS BOOST_SYSTEM_NO_DEPRECATED BOOST_THREAD_USES_DATETIME BOOST_THREAD_VERSION 5'}, 'bits': 64, 'debug': False, 'maxBsonObjectSize': 16777216, 'storageEngines': ['devnull', 'wiredTiger'], 'ok': 1.0}\n"
     ]
    }
   ],
   "source": [
    "mongoClient = pymongo.MongoClient(MONGODB_SERVER, serverSelectionTimeoutMS=5000)\n",
    "\n",
    "try:\n",
    "    print(mongoClient.server_info())\n",
    "except Exception:\n",
    "    print(\"Unable to connect to the server.\")"
   ]
  },
  {
   "cell_type": "markdown",
   "metadata": {},
   "source": [
    "Definición BBDD, colecciones e indices en MongoDB"
   ]
  },
  {
   "cell_type": "code",
   "execution_count": 5,
   "metadata": {},
   "outputs": [
    {
     "data": {
      "text/plain": [
       "'max_block_number_1'"
      ]
     },
     "execution_count": 5,
     "metadata": {},
     "output_type": "execute_result"
    }
   ],
   "source": [
    "mongoDb = mongoClient['web3_tfm']\n",
    "collection_tx = mongoDb['account_transactions']\n",
    "collection_methods = mongoDb['methods']\n",
    "collection_block_history = mongoDb['block_history']\n",
    "\n",
    "# Crear índice único en 'hash'\n",
    "collection_tx.create_index('hash', unique=True)\n",
    "\n",
    "# Crear índices en 'date' y 'to'\n",
    "collection_tx.create_index('date')\n",
    "collection_tx.create_index('to')\n",
    "\n",
    "# Crear índice único en 'methodId'\n",
    "collection_methods.create_index('methodId', unique=True)\n",
    "\n",
    "# Crear índice único para 'date' e indice para 'max_block_number'\n",
    "collection_block_history.create_index('date')\n",
    "collection_block_history.create_index('max_block_number')"
   ]
  },
  {
   "cell_type": "markdown",
   "metadata": {},
   "source": [
    "Valida si ya existe el hash (clave única) en la colección"
   ]
  },
  {
   "cell_type": "code",
   "execution_count": 6,
   "metadata": {},
   "outputs": [],
   "source": [
    "def hash_exists(collection, hash_value):\n",
    "    return collection.find_one({\"hash\": hash_value}) is not None"
   ]
  },
  {
   "cell_type": "markdown",
   "metadata": {},
   "source": [
    "Valida si ya existe el método (clave única) en la colección"
   ]
  },
  {
   "cell_type": "code",
   "execution_count": 7,
   "metadata": {},
   "outputs": [],
   "source": [
    "def method_exists(collection, method_value):\n",
    "    return collection.find_one({\"methodId\": method_value}) is not None"
   ]
  },
  {
   "cell_type": "markdown",
   "metadata": {},
   "source": [
    "Obtiene transacciones con llamada a API"
   ]
  },
  {
   "cell_type": "code",
   "execution_count": 8,
   "metadata": {},
   "outputs": [],
   "source": [
    "def get_transactions(url):\n",
    "    \n",
    "    headers = {'Content-Type': 'application/json'}\n",
    "    response = requests.get(url, headers=headers)\n",
    "\n",
    "    # Imprime el estado de la respuesta y el contenido\n",
    "    print(response.status_code)\n",
    "    \n",
    "    return response"
   ]
  },
  {
   "cell_type": "markdown",
   "metadata": {},
   "source": [
    "Convierte timestamp en fecha"
   ]
  },
  {
   "cell_type": "code",
   "execution_count": 9,
   "metadata": {},
   "outputs": [
    {
     "name": "stdout",
     "output_type": "stream",
     "text": [
      "<class 'str'> 2024-01-21 20:53:35\n"
     ]
    }
   ],
   "source": [
    "def timestamp_to_date(timestamp):\n",
    "    timestamp_int = int(timestamp)\n",
    "    fecha_hora = datetime.fromtimestamp(timestamp_int)\n",
    "    fecha_str = fecha_hora.strftime(\"%Y-%m-%d %H:%M:%S\")\n",
    "    return fecha_str\n",
    "\n",
    "# Prueba\n",
    "prueba = timestamp_to_date(1705866815)\n",
    "print(type(prueba), prueba)"
   ]
  },
  {
   "cell_type": "code",
   "execution_count": 10,
   "metadata": {},
   "outputs": [],
   "source": [
    "def from_wei_to_ether(wei_value):\n",
    "    ether_value = int(wei_value) / 10**18\n",
    "    return ether_value"
   ]
  },
  {
   "cell_type": "code",
   "execution_count": 11,
   "metadata": {},
   "outputs": [],
   "source": [
    "def from_wei_to_gwei(wei_value):\n",
    "    gwei_value = int(wei_value) / 10**9\n",
    "    return gwei_value"
   ]
  },
  {
   "cell_type": "markdown",
   "metadata": {},
   "source": [
    "Redes blockchain (https://chainlist.org/):\n",
    "- 1 (0x1) - Ethereum\n",
    "- 42161 (0xa4b1) - Arbitrum One\n",
    "- 42170 (0xa4ba) - Arbitrum Nova\n",
    "- 10 (0xa) - Optimism Mainnet\n",
    "- 137 (0x89) - Polygon Mainnet"
   ]
  },
  {
   "cell_type": "code",
   "execution_count": 12,
   "metadata": {},
   "outputs": [],
   "source": [
    "def insert_transactions(transactions, from_network, to_network):\n",
    "\n",
    "    # transactions = data['result']\n",
    "    methods = {}\n",
    "    lower_block = 99999999\n",
    "    lower_date = \"9999-12-31\"\n",
    "\n",
    "    for transaction in transactions:\n",
    "        \n",
    "        tx = {\n",
    "            'hash': transaction['hash'],\n",
    "            'date': timestamp_to_date(transaction[\"timeStamp\"]),\n",
    "            'from': transaction['from'],\n",
    "            'to': transaction['to'],\n",
    "            'from_network': from_network,\n",
    "            'to_network': to_network,\n",
    "            'value': from_wei_to_ether(transaction['value']),\n",
    "            'blockNumber': int(transaction['blockNumber']),\n",
    "            'nonce': int(transaction['nonce']),\n",
    "            'transactionIndex': int(transaction['transactionIndex']),\n",
    "            'gas': int(transaction['gas']),\n",
    "            'gasUsed': int(transaction['gasUsed']),\n",
    "            'gasPrice': from_wei_to_gwei(transaction['gasPrice']),\n",
    "            'cumulativeGasUsed': int(transaction['cumulativeGasUsed']),\n",
    "            'isError': transaction['isError'],\n",
    "            'txreceipt_status': transaction['txreceipt_status'],\n",
    "            # 'input': transaction['input'],\n",
    "            'contractAddress': transaction['contractAddress'],\n",
    "            'methodId': transaction['methodId']\n",
    "        }\n",
    "        \n",
    "        if tx[\"blockNumber\"] < lower_block:\n",
    "            lower_block = tx[\"blockNumber\"]\n",
    "            lower_date = tx[\"date\"]\n",
    "        \n",
    "        if (\"methodId\" in transaction) and (\"functionName\" in transaction):\n",
    "            methods[transaction[\"methodId\"]] = transaction[\"functionName\"]\n",
    "            # del transaction[\"functionName\"]\n",
    "        \n",
    "        # Inserta en collection_tx\n",
    "        if hash_exists(collection_tx, tx[\"hash\"]):\n",
    "            print(\"AVISO. Hash ya existe: \", tx[\"hash\"], \" Bloque: \", tx[\"blockNumber\"])\n",
    "        else:\n",
    "            collection_tx.insert_one(tx)\n",
    "        \n",
    "    print(methods)\n",
    "\n",
    "    # Guardar methods en tablas\n",
    "    for methodId, functionName in methods.items():\n",
    "        element = {\"methodId\": methodId, \"functionName\": functionName}\n",
    "        \n",
    "        # Inserta en collection_methods\n",
    "        if not method_exists(collection_methods, methodId):\n",
    "            collection_methods.insert_one(element)    \n",
    "            \n",
    "    return lower_block, lower_date      "
   ]
  },
  {
   "cell_type": "code",
   "execution_count": 13,
   "metadata": {},
   "outputs": [],
   "source": [
    "def save_transactions(url, from_network, to_network):\n",
    "    \n",
    "    print(\"save_transactions: \", url)\n",
    "    \n",
    "    response = get_transactions(url)\n",
    "\n",
    "    # Imprime el estado de la respuesta y el contenido\n",
    "    print(\"status_code: \", response.status_code)\n",
    "    \n",
    "    if response.status_code == 200:\n",
    "        data = response.json()\n",
    "        transactions = data['result']\n",
    "        lower_block, lower_date = insert_transactions(transactions, from_network, to_network)\n",
    "    else:\n",
    "        lower_block = 99999999\n",
    "        lower_date = \"0001-01-01\"\n",
    "        \n",
    "    return lower_block, lower_date"
   ]
  },
  {
   "cell_type": "code",
   "execution_count": 14,
   "metadata": {},
   "outputs": [],
   "source": [
    "def generate_url_api(address, start_block=0, end_block=99999999, page=1):\n",
    "\n",
    "    url = f\"https://api.etherscan.io/api?module=account&action=txlist&address={address}\" \\\n",
    "                f\"&startblock={start_block}&endblock={end_block}&page={page}&offset=1000\" \\\n",
    "                f\"&sort=desc&apikey={APIKEY_ETHERSCAN}\"\n",
    "    return url"
   ]
  },
  {
   "cell_type": "code",
   "execution_count": 15,
   "metadata": {},
   "outputs": [],
   "source": [
    "def process_transactions(address, start_block, end_block, page, from_network, to_network):\n",
    "    \n",
    "    url = generate_url_api(address, start_block, end_block, page)\n",
    "    \n",
    "    lower_block, lower_date = save_transactions(url, from_network, to_network)\n",
    "    print(\"page: \", page, \"| lower_block: \", lower_block, \" | lower_date:\", lower_date)\n",
    "    \n",
    "    return lower_block, lower_date"
   ]
  },
  {
   "cell_type": "code",
   "execution_count": 16,
   "metadata": {},
   "outputs": [],
   "source": [
    "def process_account_transactions(address, start_block, end_block, end_date=\"1900-01-01\", from_network=0, to_network=0):\n",
    "    \n",
    "    lower_date = \"9999-12-31\"\n",
    "    \n",
    "    while (end_date <= lower_date):\n",
    "\n",
    "        for page in range(1, 6):\n",
    "\n",
    "            lower_block, lower_date = process_transactions(address, start_block, end_block, page, from_network, to_network)\n",
    "            \n",
    "            if lower_date == \"0001-01-01\" or lower_block == 99999999:\n",
    "                break\n",
    "\n",
    "        print(\"Pausa 1 segundo\")\n",
    "        time.sleep(1)  # Pausa de 1 segundo\n",
    "\n",
    "        for page in range(6, 11):\n",
    "            \n",
    "            lower_block, lower_date = process_transactions(address, start_block, end_block, page, from_network, to_network)\n",
    "            \n",
    "            if lower_date == \"0001-01-01\" or lower_block == 99999999:\n",
    "                break\n",
    "            \n",
    "        if lower_block == 99999999:\n",
    "            break\n",
    "        else:\n",
    "            end_block = lower_block - 1"
   ]
  },
  {
   "cell_type": "code",
   "execution_count": null,
   "metadata": {},
   "outputs": [],
   "source": [
    "address = \"0x99c9fc46f92e8a1c0dec1b1747d010903e884be1\" # Optimism Gateway | L1StandardBridgeProxy\n",
    "start_block = 0\n",
    "end_block =  99999999\n",
    "end_date = \"2022-12-31\"\n",
    "from_network = 1 # Ethereum\n",
    "to_network = 10 # Optimism\n",
    "\n",
    "process_account_transactions(address, start_block, end_block, end_date, from_network, to_network)"
   ]
  },
  {
   "cell_type": "code",
   "execution_count": null,
   "metadata": {},
   "outputs": [],
   "source": [
    "address = \"0x4dbd4fc535ac27206064b68ffcf827b0a60bab3f\" # Arbitrum: Delayed Inbox\n",
    "start_block = 0\n",
    "end_block =  99999999\n",
    "end_date = \"2022-12-31\"\n",
    "from_network = 1 # Ethereum\n",
    "to_network = 42161 # Arbitrum\n",
    "\n",
    "process_account_transactions(address, start_block, end_block, end_date, from_network, to_network)"
   ]
  },
  {
   "cell_type": "code",
   "execution_count": null,
   "metadata": {},
   "outputs": [],
   "source": [
    "address = \"0x3154Cf16ccdb4C6d922629664174b904d80F2C35\" # Base: Base Bridge | L1StandardBridge\n",
    "start_block = 0\n",
    "end_block =  99999999\n",
    "end_date = \"2022-12-31\"\n",
    "from_network = 1 # Ethereum\n",
    "to_network = 8453 # Base\n",
    "\n",
    "process_account_transactions(address, start_block, end_block, end_date, from_network, to_network)"
   ]
  },
  {
   "cell_type": "code",
   "execution_count": null,
   "metadata": {},
   "outputs": [],
   "source": [
    "address = \"0xd19d4B5d358258f05D7B411E21A1460D11B0876F\" # Linea: L1 Message Service \n",
    "start_block = 0\n",
    "end_block =  18018024  # 99999999\n",
    "end_date = \"2022-12-31\"\n",
    "from_network = 1 # Ethereum\n",
    "to_network = 59144 # Linea\n",
    "\n",
    "process_account_transactions(address, start_block, end_block, end_date, from_network, to_network)"
   ]
  },
  {
   "cell_type": "markdown",
   "metadata": {},
   "source": [
    "Función que devuelve el intervalo de timestamps para una fecha"
   ]
  },
  {
   "cell_type": "code",
   "execution_count": null,
   "metadata": {},
   "outputs": [],
   "source": [
    "from datetime import datetime, timedelta\n",
    "\n",
    "def dates_from_timestamp(date_str):\n",
    "\n",
    "    fecha = datetime.strptime(date_str, \"%Y-%m-%d\")\n",
    "\n",
    "    # Obtener el timestamp Unix correspondiente a la medianoche de ese día (el inicio del día)\n",
    "    inicio_del_dia = fecha.replace(hour=0, minute=0, second=0, microsecond=0)\n",
    "    timestamp_inicio = int(inicio_del_dia.timestamp())\n",
    "\n",
    "    # Obtener el timestamp Unix correspondiente a la medianoche del día siguiente (el final del día)\n",
    "    final_del_dia = inicio_del_dia + timedelta(days=1)\n",
    "    timestamp_final = int(final_del_dia.timestamp())\n",
    "\n",
    "    return timestamp_inicio, timestamp_final\n",
    "\n",
    "print(dates_from_timestamp(\"2024-01-21\"))"
   ]
  }
 ],
 "metadata": {
  "kernelspec": {
   "display_name": "Python 3 (ipykernel)",
   "language": "python",
   "name": "python3"
  },
  "language_info": {
   "codemirror_mode": {
    "name": "ipython",
    "version": 3
   },
   "file_extension": ".py",
   "mimetype": "text/x-python",
   "name": "python",
   "nbconvert_exporter": "python",
   "pygments_lexer": "ipython3",
   "version": "3.9.18"
  }
 },
 "nbformat": 4,
 "nbformat_minor": 2
}
