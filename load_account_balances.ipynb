{
 "cells": [
  {
   "cell_type": "code",
   "execution_count": null,
   "metadata": {},
   "outputs": [],
   "source": [
    "%pip install python-dotenv\n",
    "%pip install pymongo\n",
    "%pip install web3"
   ]
  },
  {
   "cell_type": "markdown",
   "metadata": {},
   "source": [
    "Información relacionada:\n",
    "- Web3 API: https://web3py.readthedocs.io/en/stable/web3.main.html"
   ]
  },
  {
   "cell_type": "markdown",
   "metadata": {},
   "source": [
    "Importación de librerias"
   ]
  },
  {
   "cell_type": "code",
   "execution_count": 43,
   "metadata": {},
   "outputs": [],
   "source": [
    "import pymongo\n",
    "import os\n",
    "\n",
    "from dotenv import load_dotenv\n",
    "from decimal import Decimal"
   ]
  },
  {
   "cell_type": "code",
   "execution_count": 37,
   "metadata": {},
   "outputs": [
    {
     "name": "stdout",
     "output_type": "stream",
     "text": [
      "https://mainnet.infura.io/v*******27a1\n",
      "mongodb://localhost:27017/\n"
     ]
    }
   ],
   "source": [
    "# Carga los secretos del archivo .env\n",
    "load_dotenv()\n",
    "\n",
    "# Accede a los valores definidos en .env\n",
    "URL_INFURA = os.getenv(\"URL_INFURA\")\n",
    "MONGODB_SERVER = os.getenv(\"MONGODB_SERVER\")\n",
    "\n",
    "print(URL_INFURA[:27]+'*******'+URL_INFURA[-4:])\n",
    "print(MONGODB_SERVER)\n"
   ]
  },
  {
   "cell_type": "markdown",
   "metadata": {},
   "source": [
    "Conexión API Infura"
   ]
  },
  {
   "cell_type": "code",
   "execution_count": 29,
   "metadata": {},
   "outputs": [
    {
     "name": "stdout",
     "output_type": "stream",
     "text": [
      "Conectado a la red de Ethereum. Cliente:  Geth/v1.13.12-omnibus-e0f86448/linux-amd64/go1.21.6\n"
     ]
    }
   ],
   "source": [
    "from web3 import Web3\n",
    "\n",
    "try:\n",
    "    w3 = Web3(Web3.HTTPProvider(URL_INFURA))\n",
    "except Exception as e:\n",
    "    print(\"An error occurred:\", str(e))\n",
    "\n",
    "try:\n",
    "    client_ver = w3.client_version\n",
    "    print(\"Conectado a la red de Ethereum. Cliente: \", client_ver)\n",
    "except Exception as e:\n",
    "    print(\"ERROR. No ha sido posible establecer la conección: \", e)"
   ]
  },
  {
   "cell_type": "markdown",
   "metadata": {},
   "source": [
    "Función para la obtención de saldos"
   ]
  },
  {
   "cell_type": "code",
   "execution_count": 31,
   "metadata": {},
   "outputs": [
    {
     "name": "stdout",
     "output_type": "stream",
     "text": [
      "Test > Adress:  0x8315177aB297bA92A06054cE80a67Ed4DBd7ed3a | Balance:  1498474.270654427190437905\n"
     ]
    }
   ],
   "source": [
    "# block_number (OPCIONAL): Número de bloque para el que se desea consultar el saldo (Si no se especifica, devuelve el saldo actual)\n",
    "def get_balance(address, block_number='latest'):\n",
    "    balance = w3.eth.get_balance(address, block_identifier=block_number)\n",
    "    return w3.from_wei(balance, 'ether')\n",
    "\n",
    "# Prueba\n",
    "address = '0x8315177aB297bA92A06054cE80a67Ed4DBd7ed3a' # Reemplaza con la dirección que deseas consultar\n",
    "block_number = 'latest' # Reemplaza con el número de bloque que deseas consultar\n",
    "print('Test > Adress: ', address, '| Balance: ', get_balance(address, block_number))"
   ]
  },
  {
   "cell_type": "markdown",
   "metadata": {},
   "source": [
    "### Conexión a Base de Datos en MongoDB"
   ]
  },
  {
   "cell_type": "code",
   "execution_count": 38,
   "metadata": {},
   "outputs": [
    {
     "name": "stdout",
     "output_type": "stream",
     "text": [
      "{'version': '5.0.3', 'gitVersion': '657fea5a61a74d7a79df7aff8e4bcf0bc742b748', 'targetMinOS': 'Windows 7/Windows Server 2008 R2', 'modules': [], 'allocator': 'tcmalloc', 'javascriptEngine': 'mozjs', 'sysInfo': 'deprecated', 'versionArray': [5, 0, 3, 0], 'openssl': {'running': 'Windows SChannel'}, 'buildEnvironment': {'distmod': 'windows', 'distarch': 'x86_64', 'cc': 'cl: Microsoft (R) C/C++ Optimizing Compiler Version 19.26.28806 for x64', 'ccflags': '/nologo /WX /FImongo/platform/basic.h /EHsc /W3 /wd4068 /wd4244 /wd4267 /wd4290 /wd4351 /wd4355 /wd4373 /wd4800 /wd4251 /wd4291 /we4013 /we4099 /we4930 /errorReport:none /MD /O2 /Oy- /bigobj /utf-8 /permissive- /Zc:__cplusplus /Zc:sizedDealloc /volatile:iso /diagnostics:caret /std:c++17 /Gw /Gy /Zc:inline', 'cxx': 'cl: Microsoft (R) C/C++ Optimizing Compiler Version 19.26.28806 for x64', 'cxxflags': '/TP', 'linkflags': '/nologo /DEBUG /INCREMENTAL:NO /LARGEADDRESSAWARE /OPT:REF', 'target_arch': 'x86_64', 'target_os': 'windows', 'cppdefines': 'SAFEINT_USE_INTRINSICS 0 PCRE_STATIC NDEBUG BOOST_ALL_NO_LIB _UNICODE UNICODE _SILENCE_CXX17_ALLOCATOR_VOID_DEPRECATION_WARNING _SILENCE_CXX17_OLD_ALLOCATOR_MEMBERS_DEPRECATION_WARNING _SILENCE_CXX17_CODECVT_HEADER_DEPRECATION_WARNING _CONSOLE _CRT_SECURE_NO_WARNINGS _SCL_SECURE_NO_WARNINGS _WIN32_WINNT 0x0A00 BOOST_USE_WINAPI_VERSION 0x0A00 NTDDI_VERSION 0x0A000000 BOOST_THREAD_VERSION 5 BOOST_THREAD_USES_DATETIME BOOST_SYSTEM_NO_DEPRECATED BOOST_MATH_NO_LONG_DOUBLE_MATH_FUNCTIONS BOOST_ENABLE_ASSERT_DEBUG_HANDLER BOOST_LOG_NO_SHORTHAND_NAMES BOOST_LOG_USE_NATIVE_SYSLOG BOOST_LOG_WITHOUT_THREAD_ATTR ABSL_FORCE_ALIGNED_ACCESS'}, 'bits': 64, 'debug': False, 'maxBsonObjectSize': 16777216, 'storageEngines': ['devnull', 'ephemeralForTest', 'wiredTiger'], 'ok': 1.0}\n"
     ]
    }
   ],
   "source": [
    "mongoClient = pymongo.MongoClient(MONGODB_SERVER, serverSelectionTimeoutMS=5000)\n",
    "\n",
    "try:\n",
    "    print(mongoClient.server_info())\n",
    "except Exception:\n",
    "    print(\"Unable to connect to the server.\")"
   ]
  },
  {
   "cell_type": "markdown",
   "metadata": {},
   "source": [
    "Selección colecciones de MongoDB y definición de indices"
   ]
  },
  {
   "cell_type": "code",
   "execution_count": 52,
   "metadata": {},
   "outputs": [
    {
     "data": {
      "text/plain": [
       "'address_1_network_1_detail.detail_date_1'"
      ]
     },
     "execution_count": 52,
     "metadata": {},
     "output_type": "execute_result"
    }
   ],
   "source": [
    "mongoDb = mongoClient['web3_tfm']\n",
    "collection_block_history = mongoDb['block_history']\n",
    "collection_account_directory = mongoDb['account_directory']\n",
    "\n",
    "# Colección\n",
    "collection_balances = mongoDb['account_balances']\n",
    "\n",
    "# Indices\n",
    "collection_balances.create_index('address')\n",
    "\n",
    "# Define un índice único sobre los campos 'address', 'network' y 'detail.detail_date'\n",
    "collection_balances.create_index([('address', 1), ('network', 1), ('detail.detail_date', 1)], unique=True)"
   ]
  },
  {
   "cell_type": "markdown",
   "metadata": {},
   "source": [
    "Selecciona unicamente las bloques a partir del año 2023"
   ]
  },
  {
   "cell_type": "code",
   "execution_count": 41,
   "metadata": {},
   "outputs": [],
   "source": [
    "# Realizar la consulta para obtener documentos con 'date' > '2022-12-31'\n",
    "documentos = collection_block_history.find({'date': {'$gt': '2022-12-31'}})"
   ]
  },
  {
   "cell_type": "code",
   "execution_count": 42,
   "metadata": {},
   "outputs": [
    {
     "name": "stdout",
     "output_type": "stream",
     "text": [
      "Número de elementos recuperados:  411\n"
     ]
    }
   ],
   "source": [
    "blocks = {doc['max_block_number']:doc['date'] for doc in documentos}\n",
    "print(\"Número de elementos recuperados: \", len(blocks))"
   ]
  },
  {
   "cell_type": "markdown",
   "metadata": {},
   "source": [
    "Función que obtiene los saldos de una dirección para todos los bloques de la lista "
   ]
  },
  {
   "cell_type": "code",
   "execution_count": 67,
   "metadata": {},
   "outputs": [],
   "source": [
    "def insert_balances_address(address, blocks, from_network, to_network):\n",
    "    \n",
    "    balance = 0\n",
    "    print(blocks)\n",
    "    balances = []\n",
    "    print('>> Address: ', address)\n",
    "\n",
    "    # Obtiene el saldo para cada uno de los bloques fin dia (último bloque en una fecha)\n",
    "    for block, date in blocks.items():\n",
    "        \n",
    "        balance = get_balance(address, block)\n",
    "        print('block:', block, date, '| balance:', balance)\n",
    "        \n",
    "        balances.append({\n",
    "            'date': date,\n",
    "            'block_number': block,\n",
    "            'balance': balance\n",
    "        })\n",
    "        \n",
    "    # Prepara estructura documento a insertar\n",
    "    doc = {\n",
    "        'from_network': from_network,\n",
    "        'to_network': to_network,\n",
    "        'address': address,\n",
    "        'block_number': 0,\n",
    "        'date': '',\n",
    "        'balance': 0,\n",
    "        'detail': []\n",
    "    }\n",
    "\n",
    "    # Incluye la información de los saldos en el documento\n",
    "    # En doc['detail'] incluirá el historico de saldos\n",
    "    for elem in balances:\n",
    "        \n",
    "        # Convertir a punto flotante\n",
    "        balance_float = float(str(elem['balance']))\n",
    "        \n",
    "        doc['date'] = elem['date']\n",
    "        doc['balance'] = balance_float\n",
    "        doc['block_number'] = elem['block_number']\n",
    "        doc['detail'].append({\n",
    "            'detail_date': elem['date'],\n",
    "            'detail_balance': balance_float\n",
    "        })\n",
    "    \n",
    "    # Prepara filtro para validar si ya existe información para la misma cuenta y misma red blockchain\n",
    "    filtro = {'from_network': doc['from_network'], 'address': doc['address']}\n",
    "\n",
    "    # Actualiza documento (en caso de no existir, inserta el documento)\n",
    "    # La opción upsert=True indica que se debe insertar un nuevo documento si no se encuentra ningún documento \n",
    "    # que coincida con el filtro\n",
    "    collection_balances.update_one(filtro, {'$set': doc}, upsert=True)\n",
    "    \n",
    "    return balances"
   ]
  },
  {
   "cell_type": "markdown",
   "metadata": {},
   "source": [
    "Busca las cuentas para las que se debe almacenar el sado (isBalance = True)"
   ]
  },
  {
   "cell_type": "code",
   "execution_count": 76,
   "metadata": {},
   "outputs": [
    {
     "name": "stdout",
     "output_type": "stream",
     "text": [
      "[{'address': '0x8315177aB297bA92A06054cE80a67Ed4DBd7ed3a', 'from_network': 1, 'to_network': 42170, 'full_description': 'Arbitrum: Bridge'}, {'address': '0xbEb5Fc579115071764c7423A4f12eDde41f106Ed', 'from_network': 1, 'to_network': 10, 'full_description': 'Optimism - OptimismPortal'}, {'address': '0x49048044D57e1C92A77f79988d21Fa8fAF74E97e', 'from_network': 1, 'to_network': 8453, 'full_description': 'Base - OptimismPortal'}, {'address': '0xd19d4B5d358258f05D7B411E21A1460D11B0876F', 'from_network': 1, 'to_network': 59144, 'full_description': 'Linea - L1 Message Service'}]\n"
     ]
    }
   ],
   "source": [
    "# Consulta para recuperar las cuentas con \"isBalance\" igual a True\n",
    "query = {\"isBalance\": True}\n",
    "result = collection_account_directory.find(query)\n",
    "\n",
    "accounts_balance = [\n",
    "    {\n",
    "        'address': cuenta['address'], \n",
    "        'from_network': cuenta['from_network'],\n",
    "        'to_network': cuenta['to_network'],\n",
    "        'full_description': cuenta['full_description']\n",
    "    } \n",
    "    for cuenta in result\n",
    "]\n",
    "\n",
    "print(accounts_balance)"
   ]
  },
  {
   "cell_type": "markdown",
   "metadata": {},
   "source": [
    "### Carga los saldos de todas las cuentas con la marca \"isBalance\""
   ]
  },
  {
   "cell_type": "code",
   "execution_count": null,
   "metadata": {},
   "outputs": [],
   "source": [
    "for acc_details in accounts_balance:\n",
    "    \n",
    "    print('Account: ', acc_details['full_description'])\n",
    "    \n",
    "    insert_balances_address(  \n",
    "        acc_details['address'], \n",
    "        blocks, \n",
    "        acc_details['from_network'], \n",
    "        acc_details['to_network']\n",
    "    )"
   ]
  }
 ],
 "metadata": {
  "kernelspec": {
   "display_name": "Python 3 (ipykernel)",
   "language": "python",
   "name": "python3"
  },
  "language_info": {
   "codemirror_mode": {
    "name": "ipython",
    "version": 3
   },
   "file_extension": ".py",
   "mimetype": "text/x-python",
   "name": "python",
   "nbconvert_exporter": "python",
   "pygments_lexer": "ipython3",
   "version": "3.9.18"
  }
 },
 "nbformat": 4,
 "nbformat_minor": 2
}
