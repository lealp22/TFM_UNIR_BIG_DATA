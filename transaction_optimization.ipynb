{
 "cells": [
  {
   "cell_type": "code",
   "execution_count": null,
   "metadata": {},
   "outputs": [],
   "source": [
    "%pip install pymongo\n",
    "%pip install python-dotenv"
   ]
  },
  {
   "cell_type": "markdown",
   "metadata": {},
   "source": [
    "Importación de librerias"
   ]
  },
  {
   "cell_type": "code",
   "execution_count": 3,
   "metadata": {},
   "outputs": [],
   "source": [
    "import pymongo\n",
    "\n",
    "import os\n",
    "from dotenv import load_dotenv"
   ]
  },
  {
   "cell_type": "markdown",
   "metadata": {},
   "source": [
    "Carga los secretos del archivo **.env**"
   ]
  },
  {
   "cell_type": "code",
   "execution_count": 4,
   "metadata": {},
   "outputs": [
    {
     "name": "stdout",
     "output_type": "stream",
     "text": [
      "mongodb://*****27017/\n"
     ]
    }
   ],
   "source": [
    "# Carga los secretos del archivo .env\n",
    "load_dotenv()\n",
    "\n",
    "# Accede a los valores definidos en .env\n",
    "MONGODB_SERVER = os.getenv(\"MONGODB_SERVER\")\n",
    "\n",
    "print(MONGODB_SERVER[:10] + '*****' + MONGODB_SERVER[20:])"
   ]
  },
  {
   "cell_type": "markdown",
   "metadata": {},
   "source": [
    "### Conexión MongoDB"
   ]
  },
  {
   "cell_type": "code",
   "execution_count": 5,
   "metadata": {},
   "outputs": [
    {
     "name": "stdout",
     "output_type": "stream",
     "text": [
      "{'version': '5.0.3', 'gitVersion': '657fea5a61a74d7a79df7aff8e4bcf0bc742b748', 'targetMinOS': 'Windows 7/Windows Server 2008 R2', 'modules': [], 'allocator': 'tcmalloc', 'javascriptEngine': 'mozjs', 'sysInfo': 'deprecated', 'versionArray': [5, 0, 3, 0], 'openssl': {'running': 'Windows SChannel'}, 'buildEnvironment': {'distmod': 'windows', 'distarch': 'x86_64', 'cc': 'cl: Microsoft (R) C/C++ Optimizing Compiler Version 19.26.28806 for x64', 'ccflags': '/nologo /WX /FImongo/platform/basic.h /EHsc /W3 /wd4068 /wd4244 /wd4267 /wd4290 /wd4351 /wd4355 /wd4373 /wd4800 /wd4251 /wd4291 /we4013 /we4099 /we4930 /errorReport:none /MD /O2 /Oy- /bigobj /utf-8 /permissive- /Zc:__cplusplus /Zc:sizedDealloc /volatile:iso /diagnostics:caret /std:c++17 /Gw /Gy /Zc:inline', 'cxx': 'cl: Microsoft (R) C/C++ Optimizing Compiler Version 19.26.28806 for x64', 'cxxflags': '/TP', 'linkflags': '/nologo /DEBUG /INCREMENTAL:NO /LARGEADDRESSAWARE /OPT:REF', 'target_arch': 'x86_64', 'target_os': 'windows', 'cppdefines': 'SAFEINT_USE_INTRINSICS 0 PCRE_STATIC NDEBUG BOOST_ALL_NO_LIB _UNICODE UNICODE _SILENCE_CXX17_ALLOCATOR_VOID_DEPRECATION_WARNING _SILENCE_CXX17_OLD_ALLOCATOR_MEMBERS_DEPRECATION_WARNING _SILENCE_CXX17_CODECVT_HEADER_DEPRECATION_WARNING _CONSOLE _CRT_SECURE_NO_WARNINGS _SCL_SECURE_NO_WARNINGS _WIN32_WINNT 0x0A00 BOOST_USE_WINAPI_VERSION 0x0A00 NTDDI_VERSION 0x0A000000 BOOST_THREAD_VERSION 5 BOOST_THREAD_USES_DATETIME BOOST_SYSTEM_NO_DEPRECATED BOOST_MATH_NO_LONG_DOUBLE_MATH_FUNCTIONS BOOST_ENABLE_ASSERT_DEBUG_HANDLER BOOST_LOG_NO_SHORTHAND_NAMES BOOST_LOG_USE_NATIVE_SYSLOG BOOST_LOG_WITHOUT_THREAD_ATTR ABSL_FORCE_ALIGNED_ACCESS'}, 'bits': 64, 'debug': False, 'maxBsonObjectSize': 16777216, 'storageEngines': ['devnull', 'ephemeralForTest', 'wiredTiger'], 'ok': 1.0}\n"
     ]
    }
   ],
   "source": [
    "mongoClient = pymongo.MongoClient(MONGODB_SERVER, serverSelectionTimeoutMS=5000)\n",
    "\n",
    "try:\n",
    "    print(mongoClient.server_info())\n",
    "except Exception:\n",
    "    print(\"Unable to connect to the server.\")"
   ]
  },
  {
   "cell_type": "markdown",
   "metadata": {},
   "source": [
    "Definición BBDD, colecciones e indices en MongoDB"
   ]
  },
  {
   "cell_type": "code",
   "execution_count": 6,
   "metadata": {},
   "outputs": [],
   "source": [
    "mongoDb = mongoClient['web3_tfm']\n",
    "collection_tx = mongoDb['account_transactions']"
   ]
  },
  {
   "cell_type": "code",
   "execution_count": 6,
   "metadata": {},
   "outputs": [
    {
     "name": "stdout",
     "output_type": "stream",
     "text": [
      "Se eliminaron '1511575' ocurrencias del atributo 'input'.\n"
     ]
    }
   ],
   "source": [
    "# Eliminar el atributo \"input\" de todas las transacciones\n",
    "# El almacenamiento de este campo multiplica el espacio requerido para los datos y no es de relevancia para lo que se está revisando\n",
    "result = collection_tx.update_many({}, {\"$unset\": {\"input\": \"\"}})\n",
    "\n",
    "# Imprimir el resultado\n",
    "print(f\"Se eliminaron '{result.modified_count}' ocurrencias del atributo 'input'.\")"
   ]
  },
  {
   "cell_type": "markdown",
   "metadata": {},
   "source": [
    "### Carga colección *daily_transactions_summary* (con funciones de agregación MongoDB)\n",
    "Resumen del número de usuarios y transacciones realizadas diariamente entre dos redes"
   ]
  },
  {
   "cell_type": "code",
   "execution_count": null,
   "metadata": {},
   "outputs": [],
   "source": [
    "# Ejecutar la consulta de agregación\n",
    "pipeline = [\n",
    "    {\n",
    "        \"$addFields\": {\n",
    "            \"date\": { \"$toDate\": \"$date\" },\n",
    "            \"from_network\": { \"$convert\": { \"input\": \"$from_network\", \"to\": \"int\" }},\n",
    "            \"to_network\": { \"$convert\": { \"input\": \"$to_network\", \"to\": \"int\" }}\n",
    "        }\n",
    "    },\n",
    "    {\n",
    "        \"$group\": {\n",
    "            \"_id\": {\n",
    "                \"fecha\": { \"$dateToString\": { \"format\": \"%Y-%m-%d\", \"date\": \"$date\" } },\n",
    "                \"to_address\": \"$to\",\n",
    "                \"from_network\": \"$from_network\",\n",
    "                \"to_network\": \"$to_network\"\n",
    "            },\n",
    "            \"daily_transactions\": { \"$sum\": 1 },\n",
    "            \"from_address_distintos\": { \"$addToSet\": \"$from\" }\n",
    "        }\n",
    "    },\n",
    "    {\n",
    "        \"$project\": {\n",
    "            \"_id\": 0,\n",
    "            \"date\": \"$_id.fecha\",\n",
    "            \"to_address\": \"$_id.to_address\",\n",
    "            \"from_network\": \"$_id.from_network\",\n",
    "            \"to_network\": \"$_id.to_network\",\n",
    "            \"daily_transactions\": 1,\n",
    "            \"unique_from_address\": { \"$size\": \"$from_address_distintos\" }\n",
    "        }\n",
    "    },\n",
    "    { \n",
    "        \"$out\": \"daily_transactions_summary\"\n",
    "    }\n",
    "]\n",
    "\n",
    "result = collection_tx.aggregate(pipeline)"
   ]
  },
  {
   "cell_type": "markdown",
   "metadata": {},
   "source": [
    "### Carga colección *gas_price_history* (con funciones de agregación MongoDB)\n",
    "Calcula la mediana del precio diario del gas para las transacciones de los puentes en la red Ethereum"
   ]
  },
  {
   "cell_type": "code",
   "execution_count": 30,
   "metadata": {},
   "outputs": [],
   "source": [
    "pipeline = [\n",
    "    {\n",
    "        \"$addFields\": {\n",
    "            \"date\": { \"$substr\": [\"$date\", 0, 10] }\n",
    "        }\n",
    "    },\n",
    "    {\n",
    "        \"$group\": {\n",
    "            \"_id\": {\n",
    "                \"date\": \"$date\",\n",
    "                \"from_network\": \"$from_network\"\n",
    "            },\n",
    "            \"gas_prices\": { \"$push\": \"$gasPrice\" }\n",
    "        }\n",
    "    },\n",
    "    {\n",
    "        \"$addFields\": {\n",
    "            \"count\": { \"$size\": \"$gas_prices\" },\n",
    "            \"sorted_gas_prices\": {\n",
    "                \"$function\": {\n",
    "                    \"body\": \"\"\"\n",
    "                        function(arr) {\n",
    "                            return arr.sort((a, b) => a - b);\n",
    "                        }\n",
    "                    \"\"\",\n",
    "                    \"args\": [\"$gas_prices\"],\n",
    "                    \"lang\": \"js\"\n",
    "                }\n",
    "            }\n",
    "        }\n",
    "    },\n",
    "    {\n",
    "        \"$addFields\": {\n",
    "            \"median_index\": { \"$divide\": [{ \"$subtract\": [\"$count\", 1] }, 2] }\n",
    "        }\n",
    "    },\n",
    "    {\n",
    "        \"$addFields\": {\n",
    "            \"median_gas_price\": {\n",
    "                \"$avg\": [\n",
    "                    { \"$arrayElemAt\": [\"$sorted_gas_prices\", { \"$toInt\": \"$median_index\" }] },\n",
    "                    { \"$arrayElemAt\": [\"$sorted_gas_prices\", { \"$add\": [{ \"$toInt\": \"$median_index\" }, 1] }] }\n",
    "                ]\n",
    "            }\n",
    "        }\n",
    "    },\n",
    "    {\n",
    "        \"$project\": {\n",
    "            \"_id\": 0,  # Eliminar el atributo _id\n",
    "            \"date\": \"$_id.date\",\n",
    "            \"from_network\": \"$_id.from_network\",\n",
    "            \"median_gas_price\": 1\n",
    "        }\n",
    "    },\n",
    "    { \n",
    "        \"$out\": \"gas_price_history\"\n",
    "    }\n",
    "]\n",
    "\n",
    "result = collection_tx.aggregate(pipeline)\n"
   ]
  },
  {
   "cell_type": "markdown",
   "metadata": {},
   "source": [
    "### Carga colección *daily_methods_summary* (con funciones de agregación MongoDB)\n",
    "Resumen de las funciones utilizados en las transacciones"
   ]
  },
  {
   "cell_type": "code",
   "execution_count": 35,
   "metadata": {},
   "outputs": [],
   "source": [
    "pipeline = [\n",
    "  {\n",
    "    \"$addFields\": {\n",
    "      \"date\": { \"$substr\": [\"$date\", 0, 10] }\n",
    "    }\n",
    "  },\n",
    "  {\n",
    "    \"$lookup\": {\n",
    "      \"from\": \"methods\",\n",
    "      \"localField\": \"methodId\",\n",
    "      \"foreignField\": \"methodId\",\n",
    "      \"as\": \"method_info\"\n",
    "    }\n",
    "  },\n",
    "  {\n",
    "    \"$group\": {\n",
    "      \"_id\": {\n",
    "        \"date\": \"$date\",\n",
    "        \"from_network\": \"$from_network\",\n",
    "        \"to_network\": \"$to_network\",\n",
    "        \"methodId\": \"$methodId\"\n",
    "      },\n",
    "      \"count\": { \"$sum\": 1 },\n",
    "      \"functionName\": { \"$first\": { \"$arrayElemAt\": [\"$method_info.functionName\", 0] } }\n",
    "    }\n",
    "  },\n",
    "  {\n",
    "    \"$project\": {\n",
    "      \"_id\": 0,\n",
    "      \"date\": \"$_id.date\",\n",
    "      \"from_network\": \"$_id.from_network\",\n",
    "      \"to_network\": \"$_id.to_network\",\n",
    "      \"methodId\": \"$_id.methodId\",\n",
    "      \"functionName\": 1,\n",
    "      \"count\": 1\n",
    "    }\n",
    "  },\n",
    "  { \n",
    "    \"$out\": \"daily_methods_summary\"\n",
    "  }\n",
    "]\n",
    "\n",
    "result = collection_tx.aggregate(pipeline, allowDiskUse=True)"
   ]
  }
 ],
 "metadata": {
  "kernelspec": {
   "display_name": "Python 3 (ipykernel)",
   "language": "python",
   "name": "python3"
  },
  "language_info": {
   "codemirror_mode": {
    "name": "ipython",
    "version": 3
   },
   "file_extension": ".py",
   "mimetype": "text/x-python",
   "name": "python",
   "nbconvert_exporter": "python",
   "pygments_lexer": "ipython3",
   "version": "3.9.18"
  }
 },
 "nbformat": 4,
 "nbformat_minor": 2
}
